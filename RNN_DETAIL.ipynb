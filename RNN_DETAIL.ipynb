{
 "cells": [
  {
   "cell_type": "code",
   "execution_count": 1,
   "id": "e0b9f0f2",
   "metadata": {},
   "outputs": [],
   "source": [
    "import numpy as np"
   ]
  },
  {
   "cell_type": "code",
   "execution_count": 2,
   "id": "7f06c265",
   "metadata": {},
   "outputs": [],
   "source": [
    "import numpy as np\n",
    "import matplotlib.pyplot as plt\n",
    "from keras.datasets import mnist\n",
    "from tqdm import tqdm\n",
    "import pickle"
   ]
  },
  {
   "cell_type": "code",
   "execution_count": 3,
   "id": "65cd078f",
   "metadata": {},
   "outputs": [],
   "source": [
    "(x_train, y_train),(x_test, y_test) = mnist.load_data()"
   ]
  },
  {
   "cell_type": "code",
   "execution_count": 4,
   "id": "04d01579",
   "metadata": {},
   "outputs": [],
   "source": [
    "x_train, x_test = x_train / 255.0, x_test / 255.0"
   ]
  },
  {
   "cell_type": "code",
   "execution_count": 1,
   "id": "455d1248",
   "metadata": {},
   "outputs": [],
   "source": [
    "class rnn:\n",
    "    def __init__(self, input_nodes, hidden_nodes, output_nodes):\n",
    "        self.input_nodes = input_nodes\n",
    "        self.hidden_nodes = hidden_nodes\n",
    "        self.output_nodes = output_nodes\n",
    "        self.hi = np.random.randn(self.hidden_nodes, self.input_nodes)*0.1\n",
    "        self.hh = np.random.randn(self.hidden_nodes, self.hidden_nodes)*0.1\n",
    "        self.oh = np.random.randn(self.output_nodes, self.hidden_nodes)*0.1\n",
    "        self.b1 = np.zeros((self.hidden_nodes, ))\n",
    "        self.b2 = np.zeros((self.output_nodes, ))\n",
    "    def softmax(self, x):\n",
    "        x = x.T\n",
    "        x_max = x.max(axis = 0)\n",
    "        x -= x_max\n",
    "        w = np.exp(x)\n",
    "        w = (w/w.sum(axis = 0)).T\n",
    "        return w\n",
    "    def forward(self, X, H_prev):\n",
    "        h = np.matmul(X, self.hi.T) + np.matmul(H_prev, self.hh.T) + self.b1\n",
    "        h = np.tanh(h)\n",
    "        u = np.matmul(h, self.oh.T) + self.b2\n",
    "        o = self.softmax(u)\n",
    "        return h, o\n",
    "    def error(self, Y, O):\n",
    "        err = -np.mean(np.sum(Y * np.log(O[-1]), axis=1))\n",
    "        return err\n",
    "    def backward(self, T, X, Y, O, H):\n",
    "        N = O.shape[1] \n",
    "#         delta = np.zeros((N, self.hidden_nodes)) \n",
    "\n",
    "        delta = O[T-1] - Y \n",
    "        self.doh = np.matmul(delta.T, H[T-1])/ N #dE/dV\n",
    "        self.db2 = delta.T.sum(axis = 1)/ N\n",
    "        delta = np.matmul(delta, self.oh) \n",
    "    \n",
    "        for t in range(T-1, -1, -1):\n",
    "            delta *= (1 - H[t]**2)\n",
    "            self.dhh += np.matmul(delta.T, H[t-1])/ N\n",
    "            self.dhi += np.matmul(delta.T, X[t]) / N\n",
    "            self.db1 += delta.T.sum(axis = 1)/ N\n",
    "            delta = np.matmul(delta, self.hh)\n",
    "    def clip_gradients(self):\n",
    "        self.doh.clip(-1, 1, out = self.doh)\n",
    "        self.dhh.clip(-1, 1, out = self.dhh)\n",
    "        self.dhi.clip(-1, 1, out = self.dhi)\n",
    "        self.db1.clip(-1, 1, out = self.db1)\n",
    "        self.db2.clip(-1, 1, out = self.db2)\n",
    "    def zero_gradients(self):\n",
    "        self.doh = np.zeros((self.output_nodes, self.hidden_nodes))\n",
    "        self.dhh = np.zeros((self.hidden_nodes, self.hidden_nodes))\n",
    "        self.dhi = np.zeros((self.hidden_nodes, self.input_nodes))\n",
    "        self.db1 = np.zeros((self.hidden_nodes, ))\n",
    "        self.db2 = np.zeros((self.output_nodes, ))\n",
    "    def update_parameters(self, alpha):\n",
    "        self.oh -= (alpha*self.doh)\n",
    "        self.hh -= (alpha*self.dhh)\n",
    "        self.hi -= (alpha*self.dhi)\n",
    "        self.b1 -= (alpha*self.db1)\n",
    "        self.b2 -= (alpha*self.db2)"
   ]
  },
  {
   "cell_type": "code",
   "execution_count": 8,
   "id": "a12562f9",
   "metadata": {},
   "outputs": [
    {
     "name": "stderr",
     "output_type": "stream",
     "text": [
      "Epoch: 0, Batch: 999, loss: 0.52: 100%|██████████| 1000/1000 [00:38<00:00, 26.13batches/s]\n"
     ]
    },
    {
     "name": "stdout",
     "output_type": "stream",
     "text": [
      "Error after epoch 0: 0.9811717059293217\n"
     ]
    },
    {
     "name": "stderr",
     "output_type": "stream",
     "text": [
      "Epoch: 1, Batch: 999, loss: 0.43: 100%|██████████| 1000/1000 [00:28<00:00, 34.81batches/s]\n"
     ]
    },
    {
     "name": "stdout",
     "output_type": "stream",
     "text": [
      "Error after epoch 1: 0.44053154280784235\n"
     ]
    },
    {
     "name": "stderr",
     "output_type": "stream",
     "text": [
      "Epoch: 2, Batch: 999, loss: 0.3: 100%|██████████| 1000/1000 [00:29<00:00, 33.97batches/s]\n"
     ]
    },
    {
     "name": "stdout",
     "output_type": "stream",
     "text": [
      "Error after epoch 2: 0.32664765812441293\n"
     ]
    },
    {
     "name": "stderr",
     "output_type": "stream",
     "text": [
      "Epoch: 3, Batch: 999, loss: 0.15: 100%|██████████| 1000/1000 [00:34<00:00, 29.36batches/s]\n"
     ]
    },
    {
     "name": "stdout",
     "output_type": "stream",
     "text": [
      "Error after epoch 3: 0.27033004892107115\n"
     ]
    },
    {
     "name": "stderr",
     "output_type": "stream",
     "text": [
      "Epoch: 4, Batch: 999, loss: 0.16: 100%|██████████| 1000/1000 [00:30<00:00, 33.27batches/s]\n"
     ]
    },
    {
     "name": "stdout",
     "output_type": "stream",
     "text": [
      "Error after epoch 4: 0.2359748692020709\n"
     ]
    },
    {
     "name": "stderr",
     "output_type": "stream",
     "text": [
      "Epoch: 5, Batch: 999, loss: 0.15: 100%|██████████| 1000/1000 [00:32<00:00, 30.67batches/s]\n"
     ]
    },
    {
     "name": "stdout",
     "output_type": "stream",
     "text": [
      "Error after epoch 5: 0.21201488636130872\n"
     ]
    },
    {
     "name": "stderr",
     "output_type": "stream",
     "text": [
      "Epoch: 6, Batch: 999, loss: 0.49: 100%|██████████| 1000/1000 [00:34<00:00, 28.62batches/s]\n"
     ]
    },
    {
     "name": "stdout",
     "output_type": "stream",
     "text": [
      "Error after epoch 6: 0.19340100974295926\n"
     ]
    },
    {
     "name": "stderr",
     "output_type": "stream",
     "text": [
      "Epoch: 7, Batch: 999, loss: 0.18: 100%|██████████| 1000/1000 [00:36<00:00, 27.73batches/s]\n"
     ]
    },
    {
     "name": "stdout",
     "output_type": "stream",
     "text": [
      "Error after epoch 7: 0.17844937288885557\n"
     ]
    },
    {
     "name": "stderr",
     "output_type": "stream",
     "text": [
      "Epoch: 8, Batch: 999, loss: 0.14: 100%|██████████| 1000/1000 [00:31<00:00, 31.89batches/s]\n"
     ]
    },
    {
     "name": "stdout",
     "output_type": "stream",
     "text": [
      "Error after epoch 8: 0.16609370387364197\n"
     ]
    },
    {
     "name": "stderr",
     "output_type": "stream",
     "text": [
      "Epoch: 9, Batch: 999, loss: 0.21: 100%|██████████| 1000/1000 [00:30<00:00, 33.24batches/s]"
     ]
    },
    {
     "name": "stdout",
     "output_type": "stream",
     "text": [
      "Error after epoch 9: 0.15565288852344528\n"
     ]
    },
    {
     "name": "stderr",
     "output_type": "stream",
     "text": [
      "\n"
     ]
    }
   ],
   "source": [
    "T = 28 # time steps\n",
    "# x_train, y_train, x_test, y_test\n",
    "N = 60000 # no. of training examples\n",
    "N_TEST = 10000 # no. of testing examples\n",
    "\n",
    "INPUT_NODES = 28\n",
    "OUTPUT_NODES = 10\n",
    "HIDDEN_NODES = 256\n",
    "\n",
    "BATCH_SIZE = 60\n",
    "BATCHES = int(N/BATCH_SIZE)\n",
    "\n",
    "if __name__ == \"__main__\":\n",
    "\n",
    "    X = x_train[:N].reshape(N, T, INPUT_NODES)\n",
    "    Y = np.zeros((N, OUTPUT_NODES))\n",
    "#     把 Y 換成 e_i 形式\n",
    "    for i in range(N):\n",
    "        temp = np.zeros((OUTPUT_NODES, ))\n",
    "        temp[y_train[i]] = 1\n",
    "        Y[i] = temp\n",
    "    \n",
    "    model = rnn(INPUT_NODES, HIDDEN_NODES, OUTPUT_NODES)\n",
    "    \n",
    "\n",
    "    EPOCHS = 10\n",
    "    ALPHA = 0.001\n",
    "    training_loss = []\n",
    "    \n",
    "    for epoch in range(EPOCHS):\n",
    "        # shuffle\n",
    "        perm = np.random.permutation(len(X))\n",
    "        X = X[perm]\n",
    "        Y = Y[perm]\n",
    "        \n",
    "        loss = 0.\n",
    "        pbar = tqdm(range(BATCHES), unit = \"batches\")\n",
    "        \n",
    "        for batch in pbar:\n",
    "            H = np.zeros((T+1, BATCH_SIZE, model.hidden_nodes))\n",
    "            O = np.zeros((T, BATCH_SIZE, model.output_nodes))\n",
    "\n",
    "            X_B = X[batch*BATCH_SIZE:batch*BATCH_SIZE + BATCH_SIZE].transpose(1,0,2)\n",
    "            Y_B = Y[batch*BATCH_SIZE:batch*BATCH_SIZE + BATCH_SIZE]\n",
    "            \n",
    "            for t in range(T):\n",
    "                H[t], O[t] = model.forward(X_B[t], H[t-1])\n",
    "\n",
    "            # ensure gradients are initialised to zero\n",
    "            model.zero_gradients()\n",
    "        \n",
    "            # compute gradients\n",
    "            model.backward(T, X_B, Y_B, O, H)\n",
    "            \n",
    "#             model.clip_gradients()\n",
    "        \n",
    "            # update parameters\n",
    "            model.update_parameters(ALPHA)\n",
    "\n",
    "            curr_batch_loss = model.error(Y_B, O)\n",
    "            pbar.set_description(f\"Epoch: {epoch}, Batch: {batch}, loss: {round(curr_batch_loss, 2)}\")\n",
    "            \n",
    "            loss += curr_batch_loss/ BATCHES\n",
    "\n",
    "        print(f\"Error after epoch {epoch}: {loss}\")\n",
    "        training_loss.append(loss)\n",
    "    \n",
    "    pickle.dump(training_loss, open(\"training_loss.pkl\", \"wb\"))\n",
    "    pickle.dump(model, open(\"model.pkl\", \"wb\"))"
   ]
  },
  {
   "cell_type": "code",
   "execution_count": 13,
   "id": "be4c8981",
   "metadata": {},
   "outputs": [
    {
     "data": {
      "text/plain": [
       "array([ 0.00000000e+00,  0.00000000e+00,  5.87010012e-06,  1.00959024e-05,\n",
       "        9.02451376e-04,  8.42754212e-04,  2.04191622e-03,  1.99060435e-03,\n",
       "       -7.02071487e-03, -8.59115566e-03, -1.30464533e-04,  1.37238889e-02,\n",
       "        2.43020734e-02,  1.61271556e-02,  2.05789181e-02,  3.79745645e-02,\n",
       "        1.86773256e-02,  2.18379943e-02,  5.67432328e-03,  7.24537619e-03,\n",
       "        3.75161977e-03,  3.77335493e-03,  2.20025986e-03,  6.33991679e-04,\n",
       "       -5.01795096e-04,  4.03885310e-04,  0.00000000e+00,  0.00000000e+00])"
      ]
     },
     "execution_count": 13,
     "metadata": {},
     "output_type": "execute_result"
    }
   ],
   "source": [
    "model.dhi[1]"
   ]
  },
  {
   "cell_type": "code",
   "execution_count": 9,
   "id": "7338572a",
   "metadata": {},
   "outputs": [
    {
     "data": {
      "image/png": "[encoded data removed]",
      "text/plain": [
       "<Figure size 640x480 with 1 Axes>"
      ]
     },
     "metadata": {},
     "output_type": "display_data"
    }
   ],
   "source": [
    "training_loss = pickle.load(open(\"training_loss.pkl\", \"rb\"))\n",
    "training_loss = [round(x, 3) for x in training_loss]\n",
    "epochs = np.arange(0, EPOCHS) + 1\n",
    "plt.plot(epochs, training_loss, label = \"training loss\")\n",
    "plt.xlabel(\"Epochs\")\n",
    "plt.ylabel(\"Training loss\")\n",
    "plt.savefig('plot.png')\n",
    "plt.show()"
   ]
  },
  {
   "cell_type": "code",
   "execution_count": 10,
   "id": "b0d6f704",
   "metadata": {},
   "outputs": [
    {
     "name": "stderr",
     "output_type": "stream",
     "text": [
      "Running forward pass..: 100%|██████████| 28/28 [00:01<00:00, 15.19it/s]"
     ]
    },
    {
     "name": "stdout",
     "output_type": "stream",
     "text": [
      "Test Accuracy: 94.58\n"
     ]
    },
    {
     "name": "stderr",
     "output_type": "stream",
     "text": [
      "\n"
     ]
    }
   ],
   "source": [
    "model = pickle.load(open(\"model.pkl\", \"rb\"))\n",
    "\n",
    "X_TEST = x_test[:N_TEST].reshape(N_TEST, T, INPUT_NODES)\n",
    "X_TEST = X_TEST.transpose(1, 0, 2)\n",
    "Y_TEST = y_test[:N_TEST].T\n",
    "\n",
    "H_TEST = np.zeros((T+1, N_TEST, model.hidden_nodes))\n",
    "O_TEST = np.zeros((T, N_TEST, model.output_nodes))\n",
    "\n",
    "for t in tqdm(range(T), desc = f\"Running forward pass..\"):\n",
    "    H_TEST[t], O_TEST[t] = model.forward(X_TEST[t], H_TEST[t-1])\n",
    "\n",
    "correct_ans = (np.argmax(O_TEST[-1], axis = 1) == Y_TEST).sum()\n",
    "accuracy = (correct_ans/ N_TEST) * 100\n",
    "print(f\"Test Accuracy: {accuracy}\")"
   ]
  }
 ],
 "metadata": {
  "kernelspec": {
   "display_name": "Python 3 (ipykernel)",
   "language": "python",
   "name": "python3"
  },
  "language_info": {
   "codemirror_mode": {
    "name": "ipython",
    "version": 3
   },
   "file_extension": ".py",
   "mimetype": "text/x-python",
   "name": "python",
   "nbconvert_exporter": "python",
   "pygments_lexer": "ipython3",
   "version": "3.11.9"
  }
 },
 "nbformat": 4,
 "nbformat_minor": 5
}
